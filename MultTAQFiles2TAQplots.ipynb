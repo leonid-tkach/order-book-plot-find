{
 "cells": [
  {
   "cell_type": "code",
   "execution_count": 1,
   "id": "9137259e",
   "metadata": {},
   "outputs": [],
   "source": [
    "import os\n",
    "import pandas as pd\n",
    "import regex as re"
   ]
  },
  {
   "cell_type": "code",
   "execution_count": 2,
   "id": "00004367",
   "metadata": {},
   "outputs": [],
   "source": [
    "# Inspiration: https://pandasninja.com/2019/04/how-to-read-lots-of-csv-files-easily-into-pandas/\n",
    "class MultTAQFiles2TAQplots:\n",
    "    def __init__(self, path_to_TAQfiles, fname_year):\n",
    "        self.path_to_TAQfiles = path_to_TAQfiles\n",
    "        self.TAQfiles = os.listdir(path_to_TAQfiles)\n",
    "        self.fname_re = re.compile('^\\w+' + str(fname_year) + '.+\\.txt$')\n",
    "        self.match_fnames = []\n",
    "        self.TAQ_df = pd.DataFrame()\n",
    "        self.load_files()\n",
    "        \n",
    "    def TAQfile2TAQplots(self, fname):\n",
    "        fnamedate_re = re.compile('^(\\w+)(\\d{4})(\\d{2})(\\d{2})')\n",
    "        date_match = fnamedate_re.match(fname)\n",
    "        #date_dt = pd.to_datetime(date_match[2:5])\n",
    "        date_dt = pd.to_datetime(date_match[2] + '-' + date_match[3] + '-' + date_match[4]).date()\n",
    "        return(pd.read_csv(self.path_to_TAQfiles + fname).assign(DATE=date_dt))\n",
    "    \n",
    "    def load_files(self):\n",
    "        self.match_fnames = [m[0] for m in map(self.fname_re.match, self.TAQfiles) if m is not None]\n",
    "        #[self.read_csv_fnametodatecol(fn) for fn in self.match_fnames]\n",
    "        self.TAQ_df = pd.concat(map(self.TAQfile2TAQplots, self.match_fnames))\n",
    "            "
   ]
  },
  {
   "cell_type": "code",
   "execution_count": 3,
   "id": "f67ee107",
   "metadata": {},
   "outputs": [
    {
     "ename": "AttributeError",
     "evalue": "'MultTAQFiles2TAQplots' object has no attribute 'read_csv_fname2datecol'",
     "output_type": "error",
     "traceback": [
      "\u001b[1;31m---------------------------------------------------------------------------\u001b[0m",
      "\u001b[1;31mAttributeError\u001b[0m                            Traceback (most recent call last)",
      "Input \u001b[1;32mIn [3]\u001b[0m, in \u001b[0;36m<cell line: 1>\u001b[1;34m()\u001b[0m\n\u001b[1;32m----> 1\u001b[0m rmlf \u001b[38;5;241m=\u001b[39m \u001b[43mMultTAQFiles2TAQplots\u001b[49m\u001b[43m(\u001b[49m\u001b[38;5;124;43m'\u001b[39;49m\u001b[38;5;124;43m./resources/\u001b[39;49m\u001b[38;5;124;43m'\u001b[39;49m\u001b[43m,\u001b[49m\u001b[43m \u001b[49m\u001b[38;5;241;43m2007\u001b[39;49m\u001b[43m)\u001b[49m\n\u001b[0;32m      2\u001b[0m rmlf\u001b[38;5;241m.\u001b[39mTAQ_df\n",
      "Input \u001b[1;32mIn [2]\u001b[0m, in \u001b[0;36mMultTAQFiles2TAQplots.__init__\u001b[1;34m(self, path_to_TAQfiles, fname_year)\u001b[0m\n\u001b[0;32m      7\u001b[0m \u001b[38;5;28mself\u001b[39m\u001b[38;5;241m.\u001b[39mmatch_fnames \u001b[38;5;241m=\u001b[39m []\n\u001b[0;32m      8\u001b[0m \u001b[38;5;28mself\u001b[39m\u001b[38;5;241m.\u001b[39mTAQ_df \u001b[38;5;241m=\u001b[39m pd\u001b[38;5;241m.\u001b[39mDataFrame()\n\u001b[1;32m----> 9\u001b[0m \u001b[38;5;28;43mself\u001b[39;49m\u001b[38;5;241;43m.\u001b[39;49m\u001b[43mload_files\u001b[49m\u001b[43m(\u001b[49m\u001b[43m)\u001b[49m\n",
      "Input \u001b[1;32mIn [2]\u001b[0m, in \u001b[0;36mMultTAQFiles2TAQplots.load_files\u001b[1;34m(self)\u001b[0m\n\u001b[0;32m     19\u001b[0m \u001b[38;5;28mself\u001b[39m\u001b[38;5;241m.\u001b[39mmatch_fnames \u001b[38;5;241m=\u001b[39m [m[\u001b[38;5;241m0\u001b[39m] \u001b[38;5;28;01mfor\u001b[39;00m m \u001b[38;5;129;01min\u001b[39;00m \u001b[38;5;28mmap\u001b[39m(\u001b[38;5;28mself\u001b[39m\u001b[38;5;241m.\u001b[39mfname_re\u001b[38;5;241m.\u001b[39mmatch, \u001b[38;5;28mself\u001b[39m\u001b[38;5;241m.\u001b[39mTAQfiles) \u001b[38;5;28;01mif\u001b[39;00m m \u001b[38;5;129;01mis\u001b[39;00m \u001b[38;5;129;01mnot\u001b[39;00m \u001b[38;5;28;01mNone\u001b[39;00m]\n\u001b[0;32m     20\u001b[0m \u001b[38;5;66;03m#[self.read_csv_fnametodatecol(fn) for fn in self.match_fnames]\u001b[39;00m\n\u001b[1;32m---> 21\u001b[0m \u001b[38;5;28mself\u001b[39m\u001b[38;5;241m.\u001b[39mTAQ_df \u001b[38;5;241m=\u001b[39m pd\u001b[38;5;241m.\u001b[39mconcat(\u001b[38;5;28mmap\u001b[39m(\u001b[38;5;28;43mself\u001b[39;49m\u001b[38;5;241;43m.\u001b[39;49m\u001b[43mread_csv_fname2datecol\u001b[49m, \u001b[38;5;28mself\u001b[39m\u001b[38;5;241m.\u001b[39mmatch_fnames))\n",
      "\u001b[1;31mAttributeError\u001b[0m: 'MultTAQFiles2TAQplots' object has no attribute 'read_csv_fname2datecol'"
     ]
    }
   ],
   "source": [
    "rmlf = MultTAQFiles2TAQplots('./resources/', 2007)\n",
    "rmlf.TAQ_df"
   ]
  },
  {
   "cell_type": "code",
   "execution_count": null,
   "id": "17a55898",
   "metadata": {},
   "outputs": [],
   "source": []
  }
 ],
 "metadata": {
  "kernelspec": {
   "display_name": "mlenv",
   "language": "python",
   "name": "mlenv"
  },
  "language_info": {
   "codemirror_mode": {
    "name": "ipython",
    "version": 3
   },
   "file_extension": ".py",
   "mimetype": "text/x-python",
   "name": "python",
   "nbconvert_exporter": "python",
   "pygments_lexer": "ipython3",
   "version": "3.9.12"
  }
 },
 "nbformat": 4,
 "nbformat_minor": 5
}
