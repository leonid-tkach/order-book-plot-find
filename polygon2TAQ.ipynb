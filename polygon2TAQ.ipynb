{
 "cells": [
  {
   "cell_type": "code",
   "execution_count": 8,
   "id": "ce3dbaad",
   "metadata": {},
   "outputs": [],
   "source": [
    "from polygon import RESTClient\n",
    "from typing import cast\n",
    "from urllib3 import HTTPResponse\n",
    "from config import POLYGON_API_KEY\n",
    "import json"
   ]
  },
  {
   "cell_type": "code",
   "execution_count": 9,
   "id": "0a009082",
   "metadata": {},
   "outputs": [],
   "source": [
    "client = RESTClient(POLYGON_API_KEY)\n",
    "\n",
    "aggs = cast(\n",
    "    HTTPResponse,\n",
    "    client.get_aggs(\n",
    "        \"JPM\",\n",
    "        1,\n",
    "        \"day\",\n",
    "        \"2022-09-14\",\n",
    "        \"2022-09-15\",\n",
    "        raw=True,\n",
    "    ),\n",
    ")"
   ]
  },
  {
   "cell_type": "code",
   "execution_count": 20,
   "id": "9ef745d0",
   "metadata": {},
   "outputs": [
    {
     "name": "stdout",
     "output_type": "stream",
     "text": [
      "https://api.polygon.io/v2/aggs/ticker/JPM/range/1/day/2022-09-15/2022-09-15\n",
      "200\n",
      "{\n",
      "    \"ticker\": \"JPM\",\n",
      "    \"queryCount\": 1,\n",
      "    \"resultsCount\": 1,\n",
      "    \"adjusted\": true,\n",
      "    \"results\": [\n",
      "        {\n",
      "            \"v\": 10821438.0,\n",
      "            \"vw\": 117.971,\n",
      "            \"o\": 116.12,\n",
      "            \"c\": 117.87,\n",
      "            \"h\": 119.38,\n",
      "            \"l\": 115.755,\n",
      "            \"t\": 1663214400000,\n",
      "            \"n\": 120530\n",
      "        }\n",
      "    ],\n",
      "    \"status\": \"OK\",\n",
      "    \"request_id\": \"7db4b210b3b82d741e4be8f39e3c2657\",\n",
      "    \"count\": 1\n",
      "}\n"
     ]
    }
   ],
   "source": [
    "print(aggs.geturl())\n",
    "print(aggs.status)\n",
    "print(json.dumps(json.loads(aggs.data.decode(\"utf-8\")), indent=4))"
   ]
  },
  {
   "cell_type": "code",
   "execution_count": null,
   "id": "fbf1c887",
   "metadata": {},
   "outputs": [],
   "source": []
  },
  {
   "cell_type": "code",
   "execution_count": null,
   "id": "fb50a039",
   "metadata": {},
   "outputs": [],
   "source": []
  }
 ],
 "metadata": {
  "kernelspec": {
   "display_name": "mlenv",
   "language": "python",
   "name": "mlenv"
  },
  "language_info": {
   "codemirror_mode": {
    "name": "ipython",
    "version": 3
   },
   "file_extension": ".py",
   "mimetype": "text/x-python",
   "name": "python",
   "nbconvert_exporter": "python",
   "pygments_lexer": "ipython3",
   "version": "3.9.12"
  }
 },
 "nbformat": 4,
 "nbformat_minor": 5
}
