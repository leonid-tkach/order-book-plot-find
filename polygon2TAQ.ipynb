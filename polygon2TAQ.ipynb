{
 "cells": [
  {
   "cell_type": "code",
   "execution_count": 1,
   "id": "ce3dbaad",
   "metadata": {},
   "outputs": [],
   "source": [
    "from polygon import RESTClient\n",
    "from typing import cast\n",
    "from urllib3 import HTTPResponse\n",
    "from config import POLYGON_API_KEY\n",
    "import json\n",
    "from datetime import datetime\n",
    "import time\n",
    "import pandas as pd"
   ]
  },
  {
   "cell_type": "code",
   "execution_count": 2,
   "id": "0a009082",
   "metadata": {},
   "outputs": [],
   "source": [
    "# client = RESTClient(POLYGON_API_KEY)\n",
    "\n",
    "# aggs = cast(\n",
    "#     HTTPResponse,\n",
    "#     client.get_aggs(\n",
    "#         \"JPM\",\n",
    "#         1,\n",
    "#         \"day\",\n",
    "#         \"2022-09-14\",\n",
    "#         \"2022-09-15\",\n",
    "#         raw=True,\n",
    "#     ),\n",
    "# )"
   ]
  },
  {
   "cell_type": "code",
   "execution_count": 3,
   "id": "d1ddcff4",
   "metadata": {},
   "outputs": [
    {
     "data": {
      "text/plain": [
       "1.663254e+18"
      ]
     },
     "execution_count": 3,
     "metadata": {},
     "output_type": "execute_result"
    }
   ],
   "source": [
    "time.mktime(datetime(2022, 9, 15, 11, 0).timetuple())*1e9"
   ]
  },
  {
   "cell_type": "code",
   "execution_count": 4,
   "id": "17344af2",
   "metadata": {},
   "outputs": [],
   "source": [
    "client = RESTClient(POLYGON_API_KEY)\n",
    "\n",
    "quotes_aggs = cast(\n",
    "    HTTPResponse,\n",
    "    client.list_quotes(\n",
    "        ticker=\"JPM\",\n",
    "        timestamp_gte=datetime(2022, 9, 15, 8, 0),\n",
    "        timestamp_lte=datetime(2022, 9, 16, 8, 1),\n",
    "        limit=5000,\n",
    "        raw=True,\n",
    "    ),\n",
    ")\n",
    "\n",
    "trades_aggs = cast(\n",
    "    HTTPResponse,\n",
    "    client.list_trades(\n",
    "        ticker=\"JPM\",\n",
    "        timestamp_gte=datetime(2022, 9, 15, 8, 0),\n",
    "        timestamp_lte=datetime(2022, 9, 16, 8, 1),\n",
    "        limit=5000,\n",
    "        raw=True,\n",
    "    ),\n",
    ")"
   ]
  },
  {
   "cell_type": "code",
   "execution_count": 5,
   "id": "9ef745d0",
   "metadata": {},
   "outputs": [
    {
     "name": "stdout",
     "output_type": "stream",
     "text": [
      "https://api.polygon.io/v3/quotes/JPM\n",
      "200\n",
      "https://api.polygon.io/v3/trades/JPM\n",
      "200\n",
      "5000 quotes\n",
      "5000 trades\n"
     ]
    }
   ],
   "source": [
    "print(quotes_aggs.geturl())\n",
    "print(quotes_aggs.status)\n",
    "print(trades_aggs.geturl())\n",
    "print(trades_aggs.status)\n",
    "quotes_aggs_res = json.loads(quotes_aggs.data.decode(\"utf-8\"))['results']\n",
    "trades_aggs_res = json.loads(trades_aggs.data.decode(\"utf-8\"))['results']\n",
    "print(f\"{len(quotes_aggs_res)} quotes\")\n",
    "print(f\"{len(trades_aggs_res)} trades\")"
   ]
  },
  {
   "cell_type": "markdown",
   "id": "d7340c65",
   "metadata": {},
   "source": [
    "print(json.dumps(quotes_aggs_res[:2], indent=4))\n",
    "print(json.dumps(quotes_aggs_res[-2:], indent=4))"
   ]
  },
  {
   "cell_type": "markdown",
   "id": "c8b90fc0",
   "metadata": {},
   "source": [
    "print(json.dumps(trades_aggs_res[:2], indent=4))\n",
    "print(json.dumps(trades_aggs_res[-2:], indent=4))"
   ]
  },
  {
   "cell_type": "code",
   "execution_count": 6,
   "id": "0c7a6402",
   "metadata": {},
   "outputs": [],
   "source": [
    "# https://stackoverflow.com/questions/15649942/how-to-convert-epoch-time-with-nanoseconds-to-human-readable\n",
    "\n",
    "def nanos2dt(row, ts_col):\n",
    "    dt = datetime.fromtimestamp(row[ts_col] / 1e9)\n",
    "    return '{}.{:09.0f}'.format(dt.strftime('%Y-%m-%dT%H:%M:%S'), row[ts_col] % 1e9)"
   ]
  },
  {
   "cell_type": "code",
   "execution_count": 7,
   "id": "b5bb4b10",
   "metadata": {},
   "outputs": [],
   "source": [
    "def list_col_len_gt1(row, list_col):\n",
    "    return(len(row[list_col]) > 1)"
   ]
  },
  {
   "cell_type": "code",
   "execution_count": 8,
   "id": "632b9da7",
   "metadata": {
    "scrolled": true
   },
   "outputs": [],
   "source": [
    "quotes_df = pd.json_normalize(quotes_aggs_res)"
   ]
  },
  {
   "cell_type": "code",
   "execution_count": 9,
   "id": "b51a3c3d",
   "metadata": {
    "scrolled": true
   },
   "outputs": [],
   "source": [
    "# pt_dt - participant datetime\n",
    "quotes_df['pt_dt'] = quotes_df.apply(lambda row: nanos2dt(row, 'participant_timestamp'), axis=1)\n",
    "quotes_df['st_dt'] = quotes_df.apply(lambda row: nanos2dt(row, 'sip_timestamp'), axis=1)\n",
    "# quotes_df"
   ]
  },
  {
   "cell_type": "code",
   "execution_count": 10,
   "id": "d3cfc006",
   "metadata": {},
   "outputs": [
    {
     "data": {
      "text/html": [
       "<div>\n",
       "<style scoped>\n",
       "    .dataframe tbody tr th:only-of-type {\n",
       "        vertical-align: middle;\n",
       "    }\n",
       "\n",
       "    .dataframe tbody tr th {\n",
       "        vertical-align: top;\n",
       "    }\n",
       "\n",
       "    .dataframe thead th {\n",
       "        text-align: right;\n",
       "    }\n",
       "</style>\n",
       "<table border=\"1\" class=\"dataframe\">\n",
       "  <thead>\n",
       "    <tr style=\"text-align: right;\">\n",
       "      <th></th>\n",
       "      <th>participant_timestamp</th>\n",
       "      <th>ask_price</th>\n",
       "    </tr>\n",
       "  </thead>\n",
       "  <tbody>\n",
       "    <tr>\n",
       "      <th>924</th>\n",
       "      <td>1663271966164717000</td>\n",
       "      <td>{117.91, 117.92}</td>\n",
       "    </tr>\n",
       "    <tr>\n",
       "      <th>2061</th>\n",
       "      <td>1663271985335085592</td>\n",
       "      <td>{117.9, 117.91}</td>\n",
       "    </tr>\n",
       "    <tr>\n",
       "      <th>2372</th>\n",
       "      <td>1663271994647067322</td>\n",
       "      <td>{117.86, 117.87}</td>\n",
       "    </tr>\n",
       "  </tbody>\n",
       "</table>\n",
       "</div>"
      ],
      "text/plain": [
       "      participant_timestamp         ask_price\n",
       "924     1663271966164717000  {117.91, 117.92}\n",
       "2061    1663271985335085592   {117.9, 117.91}\n",
       "2372    1663271994647067322  {117.86, 117.87}"
      ]
     },
     "execution_count": 10,
     "metadata": {},
     "output_type": "execute_result"
    }
   ],
   "source": [
    "q_ask_price_pt_ts_df = quotes_df[['ask_price', 'participant_timestamp']]\n",
    "q_ask_price_pt_ts_df = q_ask_price_pt_ts_df.groupby('participant_timestamp').ask_price.apply(set).reset_index()\n",
    "q_ask_price_pt_ts_df[q_ask_price_pt_ts_df.apply(lambda row: list_col_len_gt1(row, 'ask_price'), axis=1)]"
   ]
  },
  {
   "cell_type": "code",
   "execution_count": 11,
   "id": "9b1c21c6",
   "metadata": {},
   "outputs": [],
   "source": [
    "trades_df = pd.json_normalize(trades_aggs_res)"
   ]
  },
  {
   "cell_type": "code",
   "execution_count": 12,
   "id": "154ccb61",
   "metadata": {},
   "outputs": [],
   "source": [
    "# pt_dt - participant datetime\n",
    "trades_df['pt_dt'] = trades_df.apply(lambda row: nanos2dt(row, 'participant_timestamp'), axis=1)\n",
    "trades_df['st_dt'] = trades_df.apply(lambda row: nanos2dt(row, 'sip_timestamp'), axis=1)\n",
    "# quotes_df"
   ]
  },
  {
   "cell_type": "code",
   "execution_count": 15,
   "id": "caab2343",
   "metadata": {},
   "outputs": [
    {
     "data": {
      "text/html": [
       "<div>\n",
       "<style scoped>\n",
       "    .dataframe tbody tr th:only-of-type {\n",
       "        vertical-align: middle;\n",
       "    }\n",
       "\n",
       "    .dataframe tbody tr th {\n",
       "        vertical-align: top;\n",
       "    }\n",
       "\n",
       "    .dataframe thead th {\n",
       "        text-align: right;\n",
       "    }\n",
       "</style>\n",
       "<table border=\"1\" class=\"dataframe\">\n",
       "  <thead>\n",
       "    <tr style=\"text-align: right;\">\n",
       "      <th></th>\n",
       "      <th>participant_timestamp</th>\n",
       "      <th>price</th>\n",
       "    </tr>\n",
       "  </thead>\n",
       "  <tbody>\n",
       "    <tr>\n",
       "      <th>85</th>\n",
       "      <td>1663271772870061824</td>\n",
       "      <td>{118.105, 118.1}</td>\n",
       "    </tr>\n",
       "    <tr>\n",
       "      <th>109</th>\n",
       "      <td>1663271774827749888</td>\n",
       "      <td>{118.085, 118.08}</td>\n",
       "    </tr>\n",
       "    <tr>\n",
       "      <th>114</th>\n",
       "      <td>1663271774828572672</td>\n",
       "      <td>{118.085, 118.08}</td>\n",
       "    </tr>\n",
       "    <tr>\n",
       "      <th>123</th>\n",
       "      <td>1663271774830794000</td>\n",
       "      <td>{118.085, 118.08}</td>\n",
       "    </tr>\n",
       "    <tr>\n",
       "      <th>218</th>\n",
       "      <td>1663271779901173000</td>\n",
       "      <td>{117.995, 117.99}</td>\n",
       "    </tr>\n",
       "    <tr>\n",
       "      <th>...</th>\n",
       "      <td>...</td>\n",
       "      <td>...</td>\n",
       "    </tr>\n",
       "    <tr>\n",
       "      <th>4399</th>\n",
       "      <td>1663328019322437000</td>\n",
       "      <td>{116.98, 116.96, 116.95, 116.99, 117.0, 116.94...</td>\n",
       "    </tr>\n",
       "    <tr>\n",
       "      <th>4403</th>\n",
       "      <td>1663328019322980000</td>\n",
       "      <td>{117.01, 117.02}</td>\n",
       "    </tr>\n",
       "    <tr>\n",
       "      <th>4404</th>\n",
       "      <td>1663328026407084000</td>\n",
       "      <td>{117.01, 117.0}</td>\n",
       "    </tr>\n",
       "    <tr>\n",
       "      <th>4415</th>\n",
       "      <td>1663328729941544327</td>\n",
       "      <td>{117.05, 117.02}</td>\n",
       "    </tr>\n",
       "    <tr>\n",
       "      <th>4427</th>\n",
       "      <td>1663329112896498035</td>\n",
       "      <td>{116.99, 117.0}</td>\n",
       "    </tr>\n",
       "  </tbody>\n",
       "</table>\n",
       "<p>79 rows × 2 columns</p>\n",
       "</div>"
      ],
      "text/plain": [
       "      participant_timestamp                                              price\n",
       "85      1663271772870061824                                   {118.105, 118.1}\n",
       "109     1663271774827749888                                  {118.085, 118.08}\n",
       "114     1663271774828572672                                  {118.085, 118.08}\n",
       "123     1663271774830794000                                  {118.085, 118.08}\n",
       "218     1663271779901173000                                  {117.995, 117.99}\n",
       "...                     ...                                                ...\n",
       "4399    1663328019322437000  {116.98, 116.96, 116.95, 116.99, 117.0, 116.94...\n",
       "4403    1663328019322980000                                   {117.01, 117.02}\n",
       "4404    1663328026407084000                                    {117.01, 117.0}\n",
       "4415    1663328729941544327                                   {117.05, 117.02}\n",
       "4427    1663329112896498035                                    {116.99, 117.0}\n",
       "\n",
       "[79 rows x 2 columns]"
      ]
     },
     "execution_count": 15,
     "metadata": {},
     "output_type": "execute_result"
    }
   ],
   "source": [
    "t_ask_price_pt_ts_df = trades_df[['price', 'participant_timestamp']]\n",
    "t_ask_price_pt_ts_df = t_ask_price_pt_ts_df.groupby('participant_timestamp').price.apply(set).reset_index()\n",
    "t_ask_price_pt_ts_df[t_ask_price_pt_ts_df.apply(lambda row: list_col_len_gt1(row, 'price'), axis=1)]"
   ]
  },
  {
   "cell_type": "code",
   "execution_count": null,
   "id": "575b362d",
   "metadata": {},
   "outputs": [],
   "source": []
  }
 ],
 "metadata": {
  "kernelspec": {
   "display_name": "mlenv",
   "language": "python",
   "name": "mlenv"
  },
  "language_info": {
   "codemirror_mode": {
    "name": "ipython",
    "version": 3
   },
   "file_extension": ".py",
   "mimetype": "text/x-python",
   "name": "python",
   "nbconvert_exporter": "python",
   "pygments_lexer": "ipython3",
   "version": "3.9.12"
  }
 },
 "nbformat": 4,
 "nbformat_minor": 5
}
