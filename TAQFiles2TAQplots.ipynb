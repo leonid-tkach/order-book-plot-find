{
 "cells": [
  {
   "cell_type": "code",
   "execution_count": 1,
   "id": "9137259e",
   "metadata": {},
   "outputs": [],
   "source": [
    "%run TAQ2TAQplots.ipynb\n",
    "import os\n",
    "import regex as re\n",
    "from time import time"
   ]
  },
  {
   "cell_type": "code",
   "execution_count": 2,
   "id": "0d37a681",
   "metadata": {},
   "outputs": [],
   "source": [
    "# Inspiration: https://pandasninja.com/2019/04/how-to-read-lots-of-csv-files-easily-into-pandas/\n",
    "class TAQfiles2TAQplots:\n",
    "    def __init__(self, path_to_TAQfiles, fname_year):\n",
    "        self.path_to_TAQfiles = path_to_TAQfiles\n",
    "        self.TAQfiles = os.listdir(path_to_TAQfiles)\n",
    "        self.fname_re = re.compile('^\\w+' + str(fname_year) + '.+\\.txt$')\n",
    "        self.match_fnames = [m[0] for m in map(self.fname_re.match, self.TAQfiles) if m is not None]\n",
    "        self.TAQplots_df = pd.DataFrame()\n",
    "        self.TAQfiles2TAQplots_df()\n",
    "        \n",
    "    def TAQfile2TAQ_df(self, fname):\n",
    "        start = time()\n",
    "        fnamedate_re = re.compile('^(\\w+)(\\d{4})(\\d{2})(\\d{2})')\n",
    "        date_match = fnamedate_re.match(fname)\n",
    "        date_dt = pd.to_datetime(date_match[2] + '-' + date_match[3] + '-' + date_match[4]).date()\n",
    "        TAQfile_df = pd.read_csv(self.path_to_TAQfiles + fname).assign(DATE=date_dt)\n",
    "        singlefileTAQplots_df = TAQ2TAQplots(TAQfile_df, 'NO', 'SECCODE', 'ORDERNO', 'TRADENO').TAQplots_df\n",
    "        end = time()\n",
    "        print(f\"{fname}: {end - start:.1f} s\")\n",
    "        return(singlefileTAQplots_df)\n",
    "    \n",
    "    def TAQfiles2TAQplots_df(self):\n",
    "        self.TAQplots_df = pd.concat(map(self.TAQfile2TAQ_df, self.match_fnames))\n",
    "            "
   ]
  },
  {
   "cell_type": "code",
   "execution_count": null,
   "id": "048d9692",
   "metadata": {},
   "outputs": [
    {
     "name": "stdout",
     "output_type": "stream",
     "text": [
      "OrderLog20020812.txt: 27.8 s\n"
     ]
    }
   ],
   "source": [
    "rmlf = TAQfiles2TAQplots('./resources/', 2002)\n",
    "rmlf.TAQplots_df"
   ]
  },
  {
   "cell_type": "code",
   "execution_count": null,
   "id": "49f13332",
   "metadata": {},
   "outputs": [],
   "source": []
  }
 ],
 "metadata": {
  "kernelspec": {
   "display_name": "mlenv",
   "language": "python",
   "name": "mlenv"
  },
  "language_info": {
   "codemirror_mode": {
    "name": "ipython",
    "version": 3
   },
   "file_extension": ".py",
   "mimetype": "text/x-python",
   "name": "python",
   "nbconvert_exporter": "python",
   "pygments_lexer": "ipython3",
   "version": "3.9.12"
  }
 },
 "nbformat": 4,
 "nbformat_minor": 5
}
