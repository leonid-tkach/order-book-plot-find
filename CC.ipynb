{
 "cells": [
  {
   "cell_type": "code",
   "execution_count": 1,
   "id": "eeea8c89",
   "metadata": {},
   "outputs": [],
   "source": [
    "#from https://algs4.cs.princeton.edu/41graph/\n",
    "\n",
    "import pandas as pd"
   ]
  },
  {
   "cell_type": "code",
   "execution_count": 2,
   "id": "ee90766f",
   "metadata": {},
   "outputs": [],
   "source": [
    "#class Graph:\n",
    "    \n",
    "#    def __init__(self, edges_df):\n",
    "#        self.edges_df = edges_df.copy()\n",
    "#        self.V = len(pd.unique(sum(self.edges_df.values.tolist(), [])))\n",
    "#        self.E = len(edges_df)\n",
    "#        self.adj = []\n",
    "#        for v in range(self.V):\n",
    "#            self.adj.append([])\n",
    "#        [self.addEdge(v, w) for v, w in zip(self.edges_df['v'], self.edges_df['w'])]\n",
    "\n",
    "#    def addEdge(self, v, w):\n",
    "#        self.adj[v].append(w)\n",
    "#        self.adj[w].append(v)"
   ]
  },
  {
   "cell_type": "code",
   "execution_count": 3,
   "id": "96fc6f7d",
   "metadata": {},
   "outputs": [],
   "source": [
    "#class Graph:\n",
    "    \n",
    "#    def __init__(self, V):\n",
    "#        self.V = V\n",
    "#        self.adj = []\n",
    "#        for v in range(self.V):\n",
    "#            self.adj.append([])\n",
    "\n",
    "#    def addEdge(self, v, w):\n",
    "#        self.adj[v].append(w)\n",
    "#        self.adj[w].append(v)"
   ]
  },
  {
   "cell_type": "code",
   "execution_count": 4,
   "id": "6800ce53",
   "metadata": {},
   "outputs": [],
   "source": [
    "class Graph:\n",
    "    \n",
    "    def __init__(self, edge_tpls, V):\n",
    "        self.V = V\n",
    "        self.adj = []\n",
    "        for v in range(self.V):\n",
    "            self.adj.append([])\n",
    "        [self.addEdge(v = edge_tpl[0], w = edge_tpl[1]) for edge_tpl in edge_tpls]\n",
    "\n",
    "    def addEdge(self, v, w):\n",
    "        self.adj[v].append(w)\n",
    "        self.adj[w].append(v)"
   ]
  },
  {
   "cell_type": "code",
   "execution_count": 5,
   "id": "3a67ddbe",
   "metadata": {},
   "outputs": [],
   "source": [
    "class CC:\n",
    "    def __init__(self, G):\n",
    "        self.GV = G.V\n",
    "        self.marked = [False for v in range(G.V)]\n",
    "        self.id = [0 for v in range(G.V)]\n",
    "        self.size = [0 for v in range(G.V)]\n",
    "        self.count = 0\n",
    "        for v in range(G.V):\n",
    "            if not self.marked[v]:\n",
    "                self.dfs(G, v)\n",
    "                self.count += 1\n",
    "                \n",
    "    def dfs(self, G, v):\n",
    "        self.marked[v] = True\n",
    "        self.id[v] = self.count\n",
    "        self.size[self.count] += 1\n",
    "        for w in G.adj[v]:\n",
    "            if not self.marked[w]:\n",
    "                self.dfs(G, w)\n",
    "    \n",
    "    def to_df(self):\n",
    "        return(pd.DataFrame({'elem': [i for i in range(self.GV)],\n",
    "                             'comp': aCC.id}))        "
   ]
  },
  {
   "cell_type": "code",
   "execution_count": 6,
   "id": "08bea621",
   "metadata": {},
   "outputs": [],
   "source": [
    "#tinyg_df = pd.read_csv('./resources/tinyG.csv', header=None)\n",
    "#tinyg_df.columns= [\"v\", \"w\"]\n",
    "#tinyg_df"
   ]
  },
  {
   "cell_type": "code",
   "execution_count": 7,
   "id": "aa1252ba",
   "metadata": {},
   "outputs": [
    {
     "data": {
      "text/plain": [
       "[(0, 5),\n",
       " (4, 3),\n",
       " (0, 1),\n",
       " (9, 12),\n",
       " (6, 4),\n",
       " (5, 4),\n",
       " (0, 2),\n",
       " (11, 12),\n",
       " (9, 10),\n",
       " (0, 6),\n",
       " (7, 8),\n",
       " (9, 11),\n",
       " (5, 3)]"
      ]
     },
     "execution_count": 7,
     "metadata": {},
     "output_type": "execute_result"
    }
   ],
   "source": [
    "tinyg_df = pd.read_csv('./resources/tinyG.csv', header=None)\n",
    "tinyg_df.columns= [\"v\", \"w\"]\n",
    "tinyg_tpls = []\n",
    "[tinyg_tpls.append((v, w)) for v, w in zip(tinyg_df['v'], tinyg_df['w'])]\n",
    "tinyg_tpls"
   ]
  },
  {
   "cell_type": "code",
   "execution_count": 8,
   "id": "93c03375",
   "metadata": {},
   "outputs": [],
   "source": [
    "#aG = Graph(tinyg_df)\n",
    "#aCC = CC(aG)\n",
    "#pd.DataFrame({'elem': [i for i in range(aG.V)],\n",
    "#             'comp': aCC.id})"
   ]
  },
  {
   "cell_type": "code",
   "execution_count": 9,
   "id": "d9f40a28",
   "metadata": {},
   "outputs": [],
   "source": [
    "#aG = Graph(len(tinyg_df))\n",
    "#[aG.addEdge(v, w) for v, w in zip(tinyg_df['v'], tinyg_df['w'])]\n",
    "#aCC = CC(aG)\n",
    "#pd.DataFrame({'elem': [i for i in range(aG.V)],\n",
    "#             'comp': aCC.id})"
   ]
  },
  {
   "cell_type": "code",
   "execution_count": 10,
   "id": "da336777",
   "metadata": {},
   "outputs": [
    {
     "ename": "NameError",
     "evalue": "name 'G' is not defined",
     "output_type": "error",
     "traceback": [
      "\u001b[1;31m---------------------------------------------------------------------------\u001b[0m",
      "\u001b[1;31mNameError\u001b[0m                                 Traceback (most recent call last)",
      "Input \u001b[1;32mIn [10]\u001b[0m, in \u001b[0;36m<cell line: 3>\u001b[1;34m()\u001b[0m\n\u001b[0;32m      1\u001b[0m aG \u001b[38;5;241m=\u001b[39m Graph(tinyg_tpls, \u001b[38;5;241m13\u001b[39m)\n\u001b[0;32m      2\u001b[0m aCC \u001b[38;5;241m=\u001b[39m CC(aG)\n\u001b[1;32m----> 3\u001b[0m \u001b[43maCC\u001b[49m\u001b[38;5;241;43m.\u001b[39;49m\u001b[43mto_df\u001b[49m\u001b[43m(\u001b[49m\u001b[43m)\u001b[49m\n",
      "Input \u001b[1;32mIn [5]\u001b[0m, in \u001b[0;36mCC.to_df\u001b[1;34m(self)\u001b[0m\n\u001b[0;32m     20\u001b[0m \u001b[38;5;28;01mdef\u001b[39;00m \u001b[38;5;21mto_df\u001b[39m(\u001b[38;5;28mself\u001b[39m):\n\u001b[1;32m---> 21\u001b[0m     \u001b[38;5;28;01mreturn\u001b[39;00m(pd\u001b[38;5;241m.\u001b[39mDataFrame({\u001b[38;5;124m'\u001b[39m\u001b[38;5;124melem\u001b[39m\u001b[38;5;124m'\u001b[39m: [i \u001b[38;5;28;01mfor\u001b[39;00m i \u001b[38;5;129;01min\u001b[39;00m \u001b[38;5;28mrange\u001b[39m(\u001b[43mG\u001b[49m\u001b[38;5;241m.\u001b[39mV)],\n\u001b[0;32m     22\u001b[0m                          \u001b[38;5;124m'\u001b[39m\u001b[38;5;124mcomp\u001b[39m\u001b[38;5;124m'\u001b[39m: aCC\u001b[38;5;241m.\u001b[39mid}))\n",
      "\u001b[1;31mNameError\u001b[0m: name 'G' is not defined"
     ]
    }
   ],
   "source": [
    "aG = Graph(tinyg_tpls, 13)\n",
    "aCC = CC(aG)\n",
    "aCC.to_df()"
   ]
  },
  {
   "cell_type": "code",
   "execution_count": null,
   "id": "3414b3bf",
   "metadata": {},
   "outputs": [],
   "source": []
  }
 ],
 "metadata": {
  "kernelspec": {
   "display_name": "mlenv",
   "language": "python",
   "name": "mlenv"
  },
  "language_info": {
   "codemirror_mode": {
    "name": "ipython",
    "version": 3
   },
   "file_extension": ".py",
   "mimetype": "text/x-python",
   "name": "python",
   "nbconvert_exporter": "python",
   "pygments_lexer": "ipython3",
   "version": "3.9.12"
  }
 },
 "nbformat": 4,
 "nbformat_minor": 5
}
