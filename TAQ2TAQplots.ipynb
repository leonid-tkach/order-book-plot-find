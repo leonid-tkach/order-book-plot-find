{
 "cells": [
  {
   "cell_type": "code",
   "execution_count": 1,
   "id": "1eb66504",
   "metadata": {},
   "outputs": [],
   "source": [
    "%run TAQplots.ipynb"
   ]
  },
  {
   "cell_type": "markdown",
   "id": "7bdc4a54",
   "metadata": {},
   "source": [
    "part = []\n",
    "\n",
    "whole = ['a', 'b', 'c' ,'d']\n",
    "\n",
    "print(len(whole))\n",
    "\n",
    "whole_ser = pd.Series(whole)\n",
    "whole_ser[~whole_ser.isin(part)].to_list()"
   ]
  },
  {
   "cell_type": "code",
   "execution_count": 2,
   "id": "d9e99c17",
   "metadata": {},
   "outputs": [],
   "source": [
    "# the algorithm (CC.java) is taken from https://algs4.cs.princeton.edu/41graph/\n",
    "\n",
    "class TAQ2TAQplots:\n",
    "    def __init__(self, taq_df,\n",
    "              row_id_col, # unique row id\n",
    "              sec_col, # column with security code\n",
    "              link_col, # orderno or some mark linking trades and quotes\n",
    "              trdno_col,\n",
    "              only_secs = []\n",
    "             ):\n",
    "        self.TAQplots_df = taq_df.copy()\n",
    "        self.row_id_col = row_id_col\n",
    "        self.sec_col = sec_col\n",
    "        self.link_col = link_col\n",
    "        self.trdno_col = trdno_col\n",
    "        \n",
    "        self.secs = pd.unique(taq_df[sec_col])\n",
    "        if len(only_secs) > 0:\n",
    "            only_secs_ser = pd.Series(only_secs)\n",
    "            self.wrong_secs = only_secs_ser[~only_secs_ser.isin(self.secs)].to_list()\n",
    "            if len(self.wrong_secs) > 0:\n",
    "                self.TAQplots_df =pd.DataFrame()\n",
    "                raise SystemExit(f\"Wrong SECCODES: {self.wrong_secs}\")\n",
    "            else:\n",
    "                self.secs = only_secs\n",
    "        self.TAQplots_df = self.TAQplots_df[self.TAQplots_df.SECCODE.isin(self.secs)]\n",
    "        \n",
    "        self.vertex_count_dic = {k:v for (k, v) in zip(self.secs, [0 for i in range(len(self.secs))])}\n",
    "        self.rowid2gkey_dic = {k:v for (k, v) in zip(self.secs, [{} for i in range(len(self.secs))])}\n",
    "        self.lnk2gkey_dic = {k:v for (k, v) in zip(self.secs, [{} for i in range(len(self.secs))])}\n",
    "        self.trdno2gkey_dic = {k:v for (k, v) in zip(self.secs, [{} for i in range(len(self.secs))])}\n",
    "        self.edge_tpls = {k:v for (k, v) in zip(self.secs, [[] for i in range(len(self.secs))])}\n",
    "        \n",
    "        self.rows_to_edges()\n",
    "        \n",
    "        self.Gs = {k:v for (k, v) in zip(self.secs, [Graph(self.edge_tpls[sec],\n",
    "                                                           self.vertex_count_dic[sec]) for sec in self.secs])}\n",
    "        self.TAQpps = {k:v for (k, v) in zip(self.secs, [TAQplots(self.Gs[sec]) for sec in self.secs])}\n",
    "        \n",
    "        self.to_TAQplots_df()\n",
    "\n",
    "    def sec_rowid_lnk2edges(self, rowid, sec, lnk, trdno): \n",
    "        # give 0, 1, 2, ... vertex names to all raw ids and \"links\" (eg ordernos)\n",
    "        if rowid not in self.rowid2gkey_dic[sec]:\n",
    "            self.rowid2gkey_dic[sec][rowid] = self.vertex_count_dic[sec]\n",
    "            self.vertex_count_dic[sec] += 1\n",
    "        if lnk not in self.lnk2gkey_dic[sec]:\n",
    "            self.lnk2gkey_dic[sec][lnk] = self.vertex_count_dic[sec]\n",
    "            self.vertex_count_dic[sec] += 1\n",
    "        if trdno not in self.trdno2gkey_dic[sec]:\n",
    "            self.trdno2gkey_dic[sec][trdno] = self.vertex_count_dic[sec]\n",
    "            self.vertex_count_dic[sec] += 1\n",
    "        self.edge_tpls[sec].append((self.rowid2gkey_dic[sec][rowid], \n",
    "                               self.lnk2gkey_dic[sec][lnk]))\n",
    "        if pd.notna(trdno):\n",
    "            self.edge_tpls[sec].append((self.rowid2gkey_dic[sec][rowid], \n",
    "                               self.trdno2gkey_dic[sec][trdno]))\n",
    "\n",
    "    def rows_to_edges(self):\n",
    "        [self.sec_rowid_lnk2edges(rowid, sec, lnk, trdno) \n",
    "         for rowid, sec, lnk, trdno in zip(self.TAQplots_df[self.row_id_col],\n",
    "                                    self.TAQplots_df[self.sec_col],\n",
    "                                    self.TAQplots_df[self.link_col],\n",
    "                                    self.TAQplots_df[self.trdno_col])]\n",
    "        \n",
    "    def to_TAQplots_df(self):\n",
    "        self.TAQplots_df['TAQPLOTNO'] = [self.TAQpps[sec].TAQplotnos[self.rowid2gkey_dic[sec][rowid]] \n",
    "                                    for (sec, rowid) in zip(self.TAQplots_df['SECCODE'], \n",
    "                                                            self.TAQplots_df['NO'])]"
   ]
  },
  {
   "cell_type": "markdown",
   "id": "0b03f3ec",
   "metadata": {},
   "source": [
    "#OrderLog = 'OrderLog20020812'\n",
    "OrderLog = 'OrderLog20071001'\n",
    "OrderLog_df = pd.read_csv('./resources/' + OrderLog + '.txt')\n",
    "\n",
    "OrderLog_df = OrderLog_df.astype({\"NO\":\"int\",\n",
    "                                  \"SECCODE\":\"string\",\n",
    "                                  \"BUYSELL\":\"string\",\n",
    "                                  \"TIME\":\"string\",\n",
    "                                  \"ORDERNO\":\"int\",\n",
    "                                  \"ACTION\":\"int\",\n",
    "                                  \"PRICE\":\"float\",\n",
    "                                  \"VOLUME\":\"int\",\n",
    "                                  \"TRADENO\":pd.Int64Dtype(),\n",
    "                                  \"TRADEPRICE\":\"float\"\n",
    "                                 })\n",
    "OrderLog_df"
   ]
  },
  {
   "cell_type": "markdown",
   "id": "bd034779",
   "metadata": {},
   "source": [
    "TAQplots_df = TAQ2TAQplots(OrderLog_df, 'NO', 'SECCODE', 'ORDERNO', 'TRADENO', ['LKOH', 'EESR']).TAQplots_df\n",
    "TAQplots_df.to_csv('./resources/' + OrderLog + '.csv')\n",
    "TAQplots_df"
   ]
  },
  {
   "cell_type": "code",
   "execution_count": null,
   "id": "34596cb0",
   "metadata": {},
   "outputs": [],
   "source": []
  }
 ],
 "metadata": {
  "kernelspec": {
   "display_name": "mlenv",
   "language": "python",
   "name": "mlenv"
  },
  "language_info": {
   "codemirror_mode": {
    "name": "ipython",
    "version": 3
   },
   "file_extension": ".py",
   "mimetype": "text/x-python",
   "name": "python",
   "nbconvert_exporter": "python",
   "pygments_lexer": "ipython3",
   "version": "3.9.12"
  }
 },
 "nbformat": 4,
 "nbformat_minor": 5
}
