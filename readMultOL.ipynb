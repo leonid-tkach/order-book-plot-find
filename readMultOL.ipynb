{
 "cells": [
  {
   "cell_type": "code",
   "execution_count": 1,
   "id": "9137259e",
   "metadata": {},
   "outputs": [],
   "source": [
    "import os\n",
    "import pandas as pd\n",
    "import regex as re"
   ]
  },
  {
   "cell_type": "code",
   "execution_count": 12,
   "id": "0dd172ad",
   "metadata": {},
   "outputs": [],
   "source": [
    "# Inspiration: https://pandasninja.com/2019/04/how-to-read-lots-of-csv-files-easily-into-pandas/\n",
    "class ReadMultLogFiles:\n",
    "    def __init__(self, path_to_log_files, fname_re_str):\n",
    "        self.log_files = os.listdir(path_to_log_files)\n",
    "        self.fname_re = re.compile(fname_re_str)\n",
    "        self.match_fnames = []\n",
    "        self.load_files()\n",
    "        \n",
    "    def load_files(self):\n",
    "        match_fnames = [m[0] for m in map(self.fname_re.match, self.log_files) if m is not None]\n",
    "        print(match_fnames)"
   ]
  },
  {
   "cell_type": "code",
   "execution_count": 13,
   "id": "5105437d",
   "metadata": {},
   "outputs": [
    {
     "name": "stdout",
     "output_type": "stream",
     "text": [
      "['OrderLog20071001.txt', 'OrderLog20071002.txt', 'OrderLog20071003.txt', 'OrderLog20071004.txt', 'OrderLog20071005.txt', 'OrderLog20071008.txt', 'OrderLog20071009.txt', 'OrderLog20071010.txt', 'OrderLog20071011.txt', 'OrderLog20071012.txt', 'OrderLog20071015.txt', 'OrderLog20071016.txt', 'OrderLog20071017.txt', 'OrderLog20071018.txt', 'OrderLog20071019.txt', 'OrderLog20071022.txt', 'OrderLog20071023.txt', 'OrderLog20071024.txt', 'OrderLog20071025.txt', 'OrderLog20071026.txt', 'OrderLog20071029.txt', 'OrderLog20071030.txt', 'OrderLog20071031.txt']\n"
     ]
    }
   ],
   "source": [
    "rmlf = ReadMultLogFiles('./resources/', '^OrderLog2007.+\\.txt$')"
   ]
  },
  {
   "cell_type": "code",
   "execution_count": null,
   "id": "fca4a510",
   "metadata": {},
   "outputs": [],
   "source": []
  }
 ],
 "metadata": {
  "kernelspec": {
   "display_name": "mlenv",
   "language": "python",
   "name": "mlenv"
  },
  "language_info": {
   "codemirror_mode": {
    "name": "ipython",
    "version": 3
   },
   "file_extension": ".py",
   "mimetype": "text/x-python",
   "name": "python",
   "nbconvert_exporter": "python",
   "pygments_lexer": "ipython3",
   "version": "3.9.12"
  }
 },
 "nbformat": 4,
 "nbformat_minor": 5
}
