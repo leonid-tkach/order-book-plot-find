{
 "cells": [
  {
   "cell_type": "code",
   "execution_count": 1,
   "id": "eeea8c89",
   "metadata": {},
   "outputs": [],
   "source": [
    "import pandas as pd"
   ]
  },
  {
   "cell_type": "code",
   "execution_count": 2,
   "id": "53805a29",
   "metadata": {
    "scrolled": true
   },
   "outputs": [
    {
     "data": {
      "text/html": [
       "<div>\n",
       "<style scoped>\n",
       "    .dataframe tbody tr th:only-of-type {\n",
       "        vertical-align: middle;\n",
       "    }\n",
       "\n",
       "    .dataframe tbody tr th {\n",
       "        vertical-align: top;\n",
       "    }\n",
       "\n",
       "    .dataframe thead th {\n",
       "        text-align: right;\n",
       "    }\n",
       "</style>\n",
       "<table border=\"1\" class=\"dataframe\">\n",
       "  <thead>\n",
       "    <tr style=\"text-align: right;\">\n",
       "      <th></th>\n",
       "      <th>p</th>\n",
       "      <th>q</th>\n",
       "    </tr>\n",
       "  </thead>\n",
       "  <tbody>\n",
       "    <tr>\n",
       "      <th>0</th>\n",
       "      <td>4</td>\n",
       "      <td>3</td>\n",
       "    </tr>\n",
       "    <tr>\n",
       "      <th>1</th>\n",
       "      <td>3</td>\n",
       "      <td>8</td>\n",
       "    </tr>\n",
       "    <tr>\n",
       "      <th>2</th>\n",
       "      <td>6</td>\n",
       "      <td>5</td>\n",
       "    </tr>\n",
       "    <tr>\n",
       "      <th>3</th>\n",
       "      <td>9</td>\n",
       "      <td>4</td>\n",
       "    </tr>\n",
       "    <tr>\n",
       "      <th>4</th>\n",
       "      <td>2</td>\n",
       "      <td>1</td>\n",
       "    </tr>\n",
       "  </tbody>\n",
       "</table>\n",
       "</div>"
      ],
      "text/plain": [
       "   p  q\n",
       "0  4  3\n",
       "1  3  8\n",
       "2  6  5\n",
       "3  9  4\n",
       "4  2  1"
      ]
     },
     "execution_count": 2,
     "metadata": {},
     "output_type": "execute_result"
    }
   ],
   "source": [
    "tinyuf_df = pd.read_csv('./resources/tinyUF.csv', header=None)\n",
    "tinyuf_df.columns= [\"p\", \"q\"]\n",
    "tinyuf_df.head()"
   ]
  },
  {
   "cell_type": "code",
   "execution_count": 3,
   "id": "4641cc55",
   "metadata": {},
   "outputs": [],
   "source": [
    "class WeightedQuickUnion:\n",
    "    \n",
    "    def __init__(self, connections_df):\n",
    "        self.connections_df = connections_df.copy()\n",
    "        self.sites = pd.unique(sum(self.connections_df.values.tolist(), []))\n",
    "        self.n = len(self.sites)\n",
    "        self.count = self.n\n",
    "        self.inds = [i for i in range(self.n)]\n",
    "        self.parents = [i for i in self.inds]\n",
    "        self.union_find()\n",
    "        \n",
    "    def find(self, p):\n",
    "        while p != self.parents[p]:\n",
    "            p = self.parents[p]\n",
    "        return(p)\n",
    "    \n",
    "    def union(self, p, q):\n",
    "        global count\n",
    "        rootP = self.find(p)\n",
    "        rootQ = self.find(q)\n",
    "        if rootP == rootQ:\n",
    "            return\n",
    "        self.parents[rootP] = rootQ\n",
    "        self.count = self.count - 1\n",
    "    \n",
    "    def if_union(self, p, q):\n",
    "        if self.find(p) == self.find(q):\n",
    "            return()\n",
    "        self.union(p, q)\n",
    "    \n",
    "    def union_find(self):\n",
    "        [self.if_union(p, q) for p, q in zip(self.connections_df['p'], self.connections_df['q'])]\n",
    "        \n",
    "    def print_inds_parents(self):\n",
    "        print(self.inds)\n",
    "        print(self.parents)"
   ]
  },
  {
   "cell_type": "code",
   "execution_count": 4,
   "id": "bf719fcd",
   "metadata": {},
   "outputs": [],
   "source": [
    "tunyuf_qu = QuickUnion(tinyuf_df)"
   ]
  },
  {
   "cell_type": "code",
   "execution_count": 5,
   "id": "34a0c513",
   "metadata": {},
   "outputs": [
    {
     "name": "stdout",
     "output_type": "stream",
     "text": [
      "[0, 1, 2, 3, 4, 5, 6, 7, 8, 9]\n",
      "[1, 1, 1, 8, 3, 0, 5, 1, 8, 8]\n"
     ]
    }
   ],
   "source": [
    "tunyuf_qu.print_inds_parents()"
   ]
  },
  {
   "cell_type": "code",
   "execution_count": null,
   "id": "fce217ba",
   "metadata": {},
   "outputs": [],
   "source": []
  }
 ],
 "metadata": {
  "kernelspec": {
   "display_name": "mlenv",
   "language": "python",
   "name": "mlenv"
  },
  "language_info": {
   "codemirror_mode": {
    "name": "ipython",
    "version": 3
   },
   "file_extension": ".py",
   "mimetype": "text/x-python",
   "name": "python",
   "nbconvert_exporter": "python",
   "pygments_lexer": "ipython3",
   "version": "3.9.12"
  }
 },
 "nbformat": 4,
 "nbformat_minor": 5
}
