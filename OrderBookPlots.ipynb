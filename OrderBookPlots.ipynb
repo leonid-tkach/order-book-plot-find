{
 "cells": [
  {
   "cell_type": "code",
   "execution_count": 1,
   "id": "eeea8c89",
   "metadata": {},
   "outputs": [],
   "source": [
    "# taken from https://algs4.cs.princeton.edu/41graph/\n",
    "\n",
    "import pandas as pd"
   ]
  },
  {
   "cell_type": "code",
   "execution_count": 2,
   "id": "ee90766f",
   "metadata": {},
   "outputs": [],
   "source": [
    "#class Graph:\n",
    "    \n",
    "#    def __init__(self, edges_df):\n",
    "#        self.edges_df = edges_df.copy()\n",
    "#        self.V = len(pd.unique(sum(self.edges_df.values.tolist(), [])))\n",
    "#        self.E = len(edges_df)\n",
    "#        self.adj = []\n",
    "#        for v in range(self.V):\n",
    "#            self.adj.append([])\n",
    "#        [self.addEdge(v, w) for v, w in zip(self.edges_df['v'], self.edges_df['w'])]\n",
    "\n",
    "#    def addEdge(self, v, w):\n",
    "#        self.adj[v].append(w)\n",
    "#        self.adj[w].append(v)"
   ]
  },
  {
   "cell_type": "code",
   "execution_count": 3,
   "id": "96fc6f7d",
   "metadata": {},
   "outputs": [],
   "source": [
    "#class Graph:\n",
    "    \n",
    "#    def __init__(self, V):\n",
    "#        self.V = V\n",
    "#        self.adj = []\n",
    "#        for v in range(self.V):\n",
    "#            self.adj.append([])\n",
    "\n",
    "#    def addEdge(self, v, w):\n",
    "#        self.adj[v].append(w)\n",
    "#        self.adj[w].append(v)"
   ]
  },
  {
   "cell_type": "code",
   "execution_count": 4,
   "id": "2675e384",
   "metadata": {},
   "outputs": [],
   "source": [
    "class Graph:\n",
    "    \n",
    "    def __init__(self, edge_tpls, V):\n",
    "        self.V = V\n",
    "        self.adj = []\n",
    "        for v in range(self.V):\n",
    "            self.adj.append([])\n",
    "        [self.addEdge(v = edge_tpl[0], w = edge_tpl[1]) for edge_tpl in edge_tpls]\n",
    "\n",
    "    def addEdge(self, v, w):\n",
    "        self.adj[v].append(w)\n",
    "        self.adj[w].append(v)"
   ]
  },
  {
   "cell_type": "code",
   "execution_count": 5,
   "id": "3a67ddbe",
   "metadata": {},
   "outputs": [],
   "source": [
    "class OrderBookPlots:\n",
    "    def __init__(self, G):\n",
    "        self.GV = G.V\n",
    "        self.marked = [False for v in range(G.V)]\n",
    "        self.OBPlotnos = [0 for v in range(G.V)]\n",
    "        self.size = [0 for v in range(G.V)]\n",
    "        self.count = 0\n",
    "        for v in range(G.V):\n",
    "            if not self.marked[v]:\n",
    "                self.dfs(G, v)\n",
    "                self.count += 1\n",
    "                \n",
    "    def dfs(self, G, v):\n",
    "        self.marked[v] = True\n",
    "        self.OBPlotnos[v] = self.count\n",
    "        self.size[self.count] += 1\n",
    "        for w in G.adj[v]:\n",
    "            if not self.marked[w]:\n",
    "                self.dfs(G, w)\n",
    "    \n",
    "    def to_df(self):\n",
    "        return(pd.DataFrame({'elem': [i for i in range(self.GV)],\n",
    "                             'OBPlotno': self.OBPlotnos}))        "
   ]
  },
  {
   "cell_type": "code",
   "execution_count": 6,
   "id": "08bea621",
   "metadata": {},
   "outputs": [],
   "source": [
    "#tinyg_df = pd.read_csv('./resources/tinyG.csv', header=None)\n",
    "#tinyg_df.columns= [\"v\", \"w\"]\n",
    "#tinyg_df"
   ]
  },
  {
   "cell_type": "code",
   "execution_count": 7,
   "id": "96083085",
   "metadata": {},
   "outputs": [
    {
     "data": {
      "text/plain": [
       "[(0, 5),\n",
       " (4, 3),\n",
       " (0, 1),\n",
       " (9, 12),\n",
       " (6, 4),\n",
       " (5, 4),\n",
       " (0, 2),\n",
       " (11, 12),\n",
       " (9, 10),\n",
       " (0, 6),\n",
       " (7, 8),\n",
       " (9, 11),\n",
       " (5, 3)]"
      ]
     },
     "execution_count": 7,
     "metadata": {},
     "output_type": "execute_result"
    }
   ],
   "source": [
    "# tinyg_df = pd.read_csv('./resources/tinyG.csv', header=None)\n",
    "# tinyg_df.columns= [\"v\", \"w\"]\n",
    "# tinyg_tpls = []\n",
    "# [tinyg_tpls.append((v, w)) for v, w in zip(tinyg_df['v'], tinyg_df['w'])]\n",
    "# tinyg_tpls"
   ]
  },
  {
   "cell_type": "code",
   "execution_count": 10,
   "id": "da336777",
   "metadata": {},
   "outputs": [
    {
     "data": {
      "text/html": [
       "<div>\n",
       "<style scoped>\n",
       "    .dataframe tbody tr th:only-of-type {\n",
       "        vertical-align: middle;\n",
       "    }\n",
       "\n",
       "    .dataframe tbody tr th {\n",
       "        vertical-align: top;\n",
       "    }\n",
       "\n",
       "    .dataframe thead th {\n",
       "        text-align: right;\n",
       "    }\n",
       "</style>\n",
       "<table border=\"1\" class=\"dataframe\">\n",
       "  <thead>\n",
       "    <tr style=\"text-align: right;\">\n",
       "      <th></th>\n",
       "      <th>elem</th>\n",
       "      <th>OBPlotno</th>\n",
       "    </tr>\n",
       "  </thead>\n",
       "  <tbody>\n",
       "    <tr>\n",
       "      <th>0</th>\n",
       "      <td>0</td>\n",
       "      <td>0</td>\n",
       "    </tr>\n",
       "    <tr>\n",
       "      <th>1</th>\n",
       "      <td>1</td>\n",
       "      <td>0</td>\n",
       "    </tr>\n",
       "    <tr>\n",
       "      <th>2</th>\n",
       "      <td>2</td>\n",
       "      <td>0</td>\n",
       "    </tr>\n",
       "    <tr>\n",
       "      <th>3</th>\n",
       "      <td>3</td>\n",
       "      <td>0</td>\n",
       "    </tr>\n",
       "    <tr>\n",
       "      <th>4</th>\n",
       "      <td>4</td>\n",
       "      <td>0</td>\n",
       "    </tr>\n",
       "    <tr>\n",
       "      <th>5</th>\n",
       "      <td>5</td>\n",
       "      <td>0</td>\n",
       "    </tr>\n",
       "    <tr>\n",
       "      <th>6</th>\n",
       "      <td>6</td>\n",
       "      <td>0</td>\n",
       "    </tr>\n",
       "    <tr>\n",
       "      <th>7</th>\n",
       "      <td>7</td>\n",
       "      <td>1</td>\n",
       "    </tr>\n",
       "    <tr>\n",
       "      <th>8</th>\n",
       "      <td>8</td>\n",
       "      <td>1</td>\n",
       "    </tr>\n",
       "    <tr>\n",
       "      <th>9</th>\n",
       "      <td>9</td>\n",
       "      <td>2</td>\n",
       "    </tr>\n",
       "    <tr>\n",
       "      <th>10</th>\n",
       "      <td>10</td>\n",
       "      <td>2</td>\n",
       "    </tr>\n",
       "    <tr>\n",
       "      <th>11</th>\n",
       "      <td>11</td>\n",
       "      <td>2</td>\n",
       "    </tr>\n",
       "    <tr>\n",
       "      <th>12</th>\n",
       "      <td>12</td>\n",
       "      <td>2</td>\n",
       "    </tr>\n",
       "  </tbody>\n",
       "</table>\n",
       "</div>"
      ],
      "text/plain": [
       "    elem  OBPlotno\n",
       "0      0         0\n",
       "1      1         0\n",
       "2      2         0\n",
       "3      3         0\n",
       "4      4         0\n",
       "5      5         0\n",
       "6      6         0\n",
       "7      7         1\n",
       "8      8         1\n",
       "9      9         2\n",
       "10    10         2\n",
       "11    11         2\n",
       "12    12         2"
      ]
     },
     "execution_count": 10,
     "metadata": {},
     "output_type": "execute_result"
    }
   ],
   "source": [
    "# aG = Graph(tinyg_tpls, 13)\n",
    "# obp = OrderBookPlots(aG)\n",
    "# obp.to_df()"
   ]
  },
  {
   "cell_type": "code",
   "execution_count": null,
   "id": "f196e471",
   "metadata": {},
   "outputs": [],
   "source": []
  }
 ],
 "metadata": {
  "kernelspec": {
   "display_name": "mlenv",
   "language": "python",
   "name": "mlenv"
  },
  "language_info": {
   "codemirror_mode": {
    "name": "ipython",
    "version": 3
   },
   "file_extension": ".py",
   "mimetype": "text/x-python",
   "name": "python",
   "nbconvert_exporter": "python",
   "pygments_lexer": "ipython3",
   "version": "3.9.12"
  }
 },
 "nbformat": 4,
 "nbformat_minor": 5
}
