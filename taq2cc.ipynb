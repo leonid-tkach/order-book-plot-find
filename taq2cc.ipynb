{
 "cells": [
  {
   "cell_type": "code",
   "execution_count": 1,
   "id": "1eb66504",
   "metadata": {},
   "outputs": [],
   "source": [
    "%run CC.ipynb"
   ]
  },
  {
   "cell_type": "code",
   "execution_count": 2,
   "id": "4bfc867a",
   "metadata": {},
   "outputs": [
    {
     "data": {
      "text/html": [
       "<div>\n",
       "<style scoped>\n",
       "    .dataframe tbody tr th:only-of-type {\n",
       "        vertical-align: middle;\n",
       "    }\n",
       "\n",
       "    .dataframe tbody tr th {\n",
       "        vertical-align: top;\n",
       "    }\n",
       "\n",
       "    .dataframe thead th {\n",
       "        text-align: right;\n",
       "    }\n",
       "</style>\n",
       "<table border=\"1\" class=\"dataframe\">\n",
       "  <thead>\n",
       "    <tr style=\"text-align: right;\">\n",
       "      <th></th>\n",
       "      <th>NO</th>\n",
       "      <th>SECCODE</th>\n",
       "      <th>BUYSELL</th>\n",
       "      <th>TIME</th>\n",
       "      <th>ORDERNO</th>\n",
       "      <th>ACTION</th>\n",
       "      <th>PRICE</th>\n",
       "      <th>VOLUME</th>\n",
       "      <th>TRADENO</th>\n",
       "      <th>TRADEPRICE</th>\n",
       "    </tr>\n",
       "  </thead>\n",
       "  <tbody>\n",
       "    <tr>\n",
       "      <th>0</th>\n",
       "      <td>1</td>\n",
       "      <td>RU14VOST1005</td>\n",
       "      <td>S</td>\n",
       "      <td>103000000</td>\n",
       "      <td>1</td>\n",
       "      <td>1</td>\n",
       "      <td>2.380</td>\n",
       "      <td>4500</td>\n",
       "      <td>NaN</td>\n",
       "      <td>NaN</td>\n",
       "    </tr>\n",
       "    <tr>\n",
       "      <th>1</th>\n",
       "      <td>2</td>\n",
       "      <td>RU0009071187</td>\n",
       "      <td>S</td>\n",
       "      <td>103000000</td>\n",
       "      <td>2</td>\n",
       "      <td>1</td>\n",
       "      <td>990.000</td>\n",
       "      <td>300</td>\n",
       "      <td>NaN</td>\n",
       "      <td>NaN</td>\n",
       "    </tr>\n",
       "    <tr>\n",
       "      <th>2</th>\n",
       "      <td>3</td>\n",
       "      <td>RU14VOST1005</td>\n",
       "      <td>S</td>\n",
       "      <td>103000000</td>\n",
       "      <td>3</td>\n",
       "      <td>1</td>\n",
       "      <td>2.420</td>\n",
       "      <td>21600</td>\n",
       "      <td>NaN</td>\n",
       "      <td>NaN</td>\n",
       "    </tr>\n",
       "    <tr>\n",
       "      <th>3</th>\n",
       "      <td>4</td>\n",
       "      <td>RU0009100762</td>\n",
       "      <td>B</td>\n",
       "      <td>103000000</td>\n",
       "      <td>4</td>\n",
       "      <td>1</td>\n",
       "      <td>0.133</td>\n",
       "      <td>100000</td>\n",
       "      <td>NaN</td>\n",
       "      <td>NaN</td>\n",
       "    </tr>\n",
       "    <tr>\n",
       "      <th>4</th>\n",
       "      <td>5</td>\n",
       "      <td>RU0009054449</td>\n",
       "      <td>S</td>\n",
       "      <td>103000000</td>\n",
       "      <td>5</td>\n",
       "      <td>1</td>\n",
       "      <td>332.000</td>\n",
       "      <td>500</td>\n",
       "      <td>NaN</td>\n",
       "      <td>NaN</td>\n",
       "    </tr>\n",
       "  </tbody>\n",
       "</table>\n",
       "</div>"
      ],
      "text/plain": [
       "   NO       SECCODE BUYSELL       TIME  ORDERNO  ACTION    PRICE  VOLUME  \\\n",
       "0   1  RU14VOST1005       S  103000000        1       1    2.380    4500   \n",
       "1   2  RU0009071187       S  103000000        2       1  990.000     300   \n",
       "2   3  RU14VOST1005       S  103000000        3       1    2.420   21600   \n",
       "3   4  RU0009100762       B  103000000        4       1    0.133  100000   \n",
       "4   5  RU0009054449       S  103000000        5       1  332.000     500   \n",
       "\n",
       "   TRADENO  TRADEPRICE  \n",
       "0      NaN         NaN  \n",
       "1      NaN         NaN  \n",
       "2      NaN         NaN  \n",
       "3      NaN         NaN  \n",
       "4      NaN         NaN  "
      ]
     },
     "execution_count": 2,
     "metadata": {},
     "output_type": "execute_result"
    }
   ],
   "source": [
    "OrderLog20020812_df = pd.read_csv('./resources/OrderLog20020812.txt')\n",
    "OrderLog20020812_df.head()"
   ]
  },
  {
   "cell_type": "code",
   "execution_count": 3,
   "id": "711a0e08",
   "metadata": {},
   "outputs": [
    {
     "data": {
      "text/plain": [
       "(0, 1, 2)"
      ]
     },
     "execution_count": 3,
     "metadata": {},
     "output_type": "execute_result"
    }
   ],
   "source": [
    "dic = {4434:0, 'asdf':1}\n",
    "dic[4434], dic['asdf'], len(dic)"
   ]
  },
  {
   "cell_type": "code",
   "execution_count": 4,
   "id": "d9e99c17",
   "metadata": {},
   "outputs": [],
   "source": [
    "class taq2edges:\n",
    "    def __init__(self, taq_df,\n",
    "              row_id_col, # unique row id\n",
    "              sec_col, # column with security code\n",
    "              link_col # orderno or some mark linking trades and quotes\n",
    "             ):\n",
    "        self.taq_df = taq_df.copy()\n",
    "        self.row_id_col = row_id_col\n",
    "        self.sec_col = sec_col\n",
    "        self.link_col = link_col\n",
    "        self.secs = pd.unique(taq_df[sec_col])\n",
    "        self.vertex_count_dic = {k:v for (k, v) in zip(self.secs, [0 for i in range(len(self.secs))])}\n",
    "        self.rowid2gkey_dic = {k:v for (k, v) in zip(self.secs, [{} for i in range(len(self.secs))])}\n",
    "        self.lnk2gkey_dic = {k:v for (k, v) in zip(self.secs, [{} for i in range(len(self.secs))])}\n",
    "        self.edge_tpls = {k:v for (k, v) in zip(self.secs, [[] for i in range(len(self.secs))])}\n",
    "        self.rows_to_edges()\n",
    "        self.Gs = {k:v for (k, v) in zip(self.secs, [Graph(self.vertex_count_dic[sec]) for sec in self.secs])}\n",
    "        self.edges2Gs()\n",
    "\n",
    "    def edges2Gs (self):\n",
    "        for sec in self.secs:\n",
    "            for edge_tpl in self.edge_tpls[sec]:\n",
    "        \n",
    "    def sec_rowid_lnk2edges(self, rowid, sec, lnk): \n",
    "        # give 0, 1, 2, ... vertex names to all raw ids and \"links\" (eg ordernos)\n",
    "        if rowid not in self.rowid2gkey_dic[sec]:\n",
    "            self.rowid2gkey_dic[sec][rowid] = self.vertex_count_dic[sec]\n",
    "            self.vertex_count_dic[sec] += 1\n",
    "        if lnk not in self.lnk2gkey_dic[sec]:\n",
    "            self.lnk2gkey_dic[sec][lnk] = self.vertex_count_dic[sec]\n",
    "            self.vertex_count_dic[sec] += 1\n",
    "        self.edge_tpls[sec].append((self.rowid2gkey_dic[sec][rowid], \n",
    "                               self.lnk2gkey_dic[sec][lnk]))\n",
    "\n",
    "    def rows_to_edges(self):\n",
    "        [self.sec_rowid_lnk2edges(rowid, sec, lnk) \n",
    "         for rowid, sec, lnk in zip(self.taq_df[self.row_id_col],\n",
    "                                    self.taq_df[self.sec_col],\n",
    "                                    self.taq_df[self.link_col])]\n",
    "        "
   ]
  },
  {
   "cell_type": "code",
   "execution_count": 5,
   "id": "aa281020",
   "metadata": {},
   "outputs": [
    {
     "name": "stdout",
     "output_type": "stream",
     "text": [
      "{'RU14VOST1005': <__main__.Graph object at 0x0000019133A70730>, 'RU0009071187': <__main__.Graph object at 0x0000019133A70C70>, 'RU0009100762': <__main__.Graph object at 0x0000019133A70F40>, 'RU0009054449': <__main__.Graph object at 0x0000019133A70C40>, 'RU0009029532': <__main__.Graph object at 0x0000019133A70880>, 'RU0008926258': <__main__.Graph object at 0x0000019133A70E50>, 'RU14MSNG3008': <__main__.Graph object at 0x0000019133EE5250>, 'RU14TATN3006': <__main__.Graph object at 0x0000019133EE5430>, 'RU0009046700': <__main__.Graph object at 0x0000019133EE5520>, 'RU0008926621': <__main__.Graph object at 0x0000019133EE5460>, 'RU0008943394': <__main__.Graph object at 0x000001913388CD00>, 'RU14LKOH8004': <__main__.Graph object at 0x0000019133EE5370>, 'RU0009024277': <__main__.Graph object at 0x0000019133EE53A0>, 'RU0008926639': <__main__.Graph object at 0x0000019133EE5310>, 'RU0009097927': <__main__.Graph object at 0x0000019133EE5F40>, 'RU14TRNF1015': <__main__.Graph object at 0x0000019133EE5FA0>, 'RU14GMKN0507': <__main__.Graph object at 0x0000019133EE5E50>, 'RU0009083893': <__main__.Graph object at 0x0000019133EE5CD0>, 'RU0009004642': <__main__.Graph object at 0x0000019133EE5D30>, 'RU14SIBN1003': <__main__.Graph object at 0x0000019133EE5D60>, 'RU0008960828': <__main__.Graph object at 0x0000019133EE5DF0>, 'RU0009029540': <__main__.Graph object at 0x0000019133EE5B80>, 'RU14URSI7011': <__main__.Graph object at 0x0000019133EE57C0>, 'RU0009071195': <__main__.Graph object at 0x0000019133EE5790>, 'RU0009029557': <__main__.Graph object at 0x0000019133EE58E0>, 'RU0009029524': <__main__.Graph object at 0x0000019133EE58B0>, 'RU14TATN3014': <__main__.Graph object at 0x0000019133EE5880>, 'RU0009062285': <__main__.Graph object at 0x0000019133EE5700>, 'RU0009011126': <__main__.Graph object at 0x0000019133EE56D0>, 'RU0009088181': <__main__.Graph object at 0x0000019133EE56A0>, 'RU0008503032': <__main__.Graph object at 0x0000019133EE5A30>, 'RU0009084248': <__main__.Graph object at 0x0000019133EE5910>, 'RU14RBCI4001': <__main__.Graph object at 0x0000019133EE5940>, 'RU14GMKN0408': <__main__.Graph object at 0x0000019133EE5EE0>, 'RU0009100754': <__main__.Graph object at 0x0000019133EE5490>, 'RU0009058804': <__main__.Graph object at 0x0000019133EE52E0>, 'RU0008958863': <__main__.Graph object at 0x0000019133EE5C70>, 'RU14RTSE4007': <__main__.Graph object at 0x0000019133EE5C10>, 'RU0008288774': <__main__.Graph object at 0x0000019133EE5BB0>, 'RU0009098255': <__main__.Graph object at 0x0000019133EE5B50>, 'RU0009046676': <__main__.Graph object at 0x0000019133EE5AC0>, 'RU0009049118': <__main__.Graph object at 0x0000019133EE5A60>, 'RU0007779179': <__main__.Graph object at 0x0000019133EE5040>, 'RU22MGTS1006': <__main__.Graph object at 0x0000019133EE50D0>, 'RU0007779161': <__main__.Graph object at 0x0000019133EE5130>, 'RU22MGTS1022': <__main__.Graph object at 0x0000019133EE5190>, 'RU0007485140': <__main__.Graph object at 0x0000019133EE55B0>, 'RU0008578778': <__main__.Graph object at 0x0000019133EE5610>, 'RU0009084495': <__main__.Graph object at 0x0000019133A5F940>, 'RU14INUR2017': <__main__.Graph object at 0x0000019133A5F610>, 'RU14SAGO3001': <__main__.Graph object at 0x0000019133A5FC70>, 'RU0008575402': <__main__.Graph object at 0x0000019133A5F8B0>, 'RU0008582762': <__main__.Graph object at 0x0000019133A5FD00>, 'RU0007782421': <__main__.Graph object at 0x0000019133A5F880>, 'RU0008538145': <__main__.Graph object at 0x0000019133A5F910>, 'RU22BISV0104': <__main__.Graph object at 0x0000019133A5F9D0>, 'RU0009099923': <__main__.Graph object at 0x0000019133A5F7F0>, 'RU0008461595': <__main__.Graph object at 0x0000019133A5FA60>, 'RU0008253083': <__main__.Graph object at 0x0000019133A5FBB0>, 'RU0008508049': <__main__.Graph object at 0x0000019133A5FFD0>, 'RU0008598586': <__main__.Graph object at 0x0000019133A5FEE0>, 'RU22BKBK0102': <__main__.Graph object at 0x0000019133A5FBE0>, 'RU0008268131': <__main__.Graph object at 0x0000019133A5FD60>, 'RU22UMAS2007': <__main__.Graph object at 0x0000019133A5FDC0>, 'RU0007481131': <__main__.Graph object at 0x0000019133A5F9A0>, 'RU0008268149': <__main__.Graph object at 0x0000019133A5FCA0>, 'RU24015MOSZ4': <__main__.Graph object at 0x0000019133A5FB80>, 'RU24016MOSZ2': <__main__.Graph object at 0x0000019133A5FF70>, 'RU25018MOSZ1': <__main__.Graph object at 0x0000019133A76EB0>, 'RU25019MOSZ9': <__main__.Graph object at 0x0000019133A76250>, 'RU25020MOSZ7': <__main__.Graph object at 0x0000019133A76220>, 'RU0008268123': <__main__.Graph object at 0x0000019133A76F10>, 'RU25008MOSZ8': <__main__.Graph object at 0x0000019133A76820>, 'RU24017MOSZ0': <__main__.Graph object at 0x0000019132663D00>, 'RU0008578059': <__main__.Graph object at 0x00000191314C8B80>, 'RU0008549761': <__main__.Graph object at 0x00000191314C8AF0>, 'RU0008586870': <__main__.Graph object at 0x00000191314C8A60>, 'RU0008578026': <__main__.Graph object at 0x00000191314C8CD0>, 'RU0008605555': <__main__.Graph object at 0x00000191314C89D0>, 'RU0008253075': <__main__.Graph object at 0x00000191314C8910>, 'RU14TTLK4004': <__main__.Graph object at 0x00000191314B23A0>, 'RU22TNCO4007': <__main__.Graph object at 0x00000191314B2190>, 'RU14TTLK4012': <__main__.Graph object at 0x00000191314B20D0>, 'RU0008270434': <__main__.Graph object at 0x00000191314B2130>, 'RU0009046619': <__main__.Graph object at 0x000001913145CDC0>, 'RU0008309885': <__main__.Graph object at 0x000001913628D070>, 'RU0008594395': <__main__.Graph object at 0x000001913628D0D0>, 'RU0008552153': <__main__.Graph object at 0x000001913628D130>, 'RU0008456942': <__main__.Graph object at 0x000001913628D190>, 'RU0008548326': <__main__.Graph object at 0x000001913628D1F0>, 'RU0008503016': <__main__.Graph object at 0x000001913628D250>, 'RU0008514856': <__main__.Graph object at 0x000001913628D2B0>, 'RU0008502554': <__main__.Graph object at 0x000001913628D310>, 'RU0007766127': <__main__.Graph object at 0x000001913628D370>, 'RU0007498564': <__main__.Graph object at 0x000001913628D3D0>, 'RU22PPME0106': <__main__.Graph object at 0x000001913628D430>, 'RU0007762654': <__main__.Graph object at 0x000001913628D490>, 'RU22ALRS7002': <__main__.Graph object at 0x000001913628D4F0>, 'RU22GAZP1211': <__main__.Graph object at 0x000001913628D550>, 'RU0007787636': <__main__.Graph object at 0x000001913628D5B0>, 'RU0008274204': <__main__.Graph object at 0x000001913628D610>, 'RU0008256904': <__main__.Graph object at 0x000001913628D670>, 'RU0008514567': <__main__.Graph object at 0x000001913628D6D0>, 'RU0009090542': <__main__.Graph object at 0x000001913628D730>, 'RU0008550132': <__main__.Graph object at 0x000001913628D790>, 'RU14SAGO3019': <__main__.Graph object at 0x000001913628D7F0>, 'RU22TATN1000': <__main__.Graph object at 0x000001913628D850>, 'RU14LKOH5018': <__main__.Graph object at 0x000001913628D8B0>, 'RU0007773586': <__main__.Graph object at 0x000001913628D910>, 'RU22CSFK1305': <__main__.Graph object at 0x000001913628D970>, 'RU0008290234': <__main__.Graph object at 0x000001913628D9D0>, 'RU0007481123': <__main__.Graph object at 0x000001913628DA30>}\n"
     ]
    }
   ],
   "source": [
    "temp = taq2edges(OrderLog20020812_df, 'NO', 'SECCODE', 'ORDERNO')"
   ]
  },
  {
   "cell_type": "code",
   "execution_count": null,
   "id": "ae2b07fe",
   "metadata": {},
   "outputs": [],
   "source": []
  }
 ],
 "metadata": {
  "kernelspec": {
   "display_name": "mlenv",
   "language": "python",
   "name": "mlenv"
  },
  "language_info": {
   "codemirror_mode": {
    "name": "ipython",
    "version": 3
   },
   "file_extension": ".py",
   "mimetype": "text/x-python",
   "name": "python",
   "nbconvert_exporter": "python",
   "pygments_lexer": "ipython3",
   "version": "3.9.12"
  }
 },
 "nbformat": 4,
 "nbformat_minor": 5
}
