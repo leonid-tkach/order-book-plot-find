{
 "cells": [
  {
   "cell_type": "code",
   "execution_count": 1,
   "id": "1eb66504",
   "metadata": {},
   "outputs": [],
   "source": [
    "%run CC.ipynb"
   ]
  },
  {
   "cell_type": "code",
   "execution_count": 2,
   "id": "4bfc867a",
   "metadata": {},
   "outputs": [
    {
     "data": {
      "text/html": [
       "<div>\n",
       "<style scoped>\n",
       "    .dataframe tbody tr th:only-of-type {\n",
       "        vertical-align: middle;\n",
       "    }\n",
       "\n",
       "    .dataframe tbody tr th {\n",
       "        vertical-align: top;\n",
       "    }\n",
       "\n",
       "    .dataframe thead th {\n",
       "        text-align: right;\n",
       "    }\n",
       "</style>\n",
       "<table border=\"1\" class=\"dataframe\">\n",
       "  <thead>\n",
       "    <tr style=\"text-align: right;\">\n",
       "      <th></th>\n",
       "      <th>NO</th>\n",
       "      <th>SECCODE</th>\n",
       "      <th>BUYSELL</th>\n",
       "      <th>TIME</th>\n",
       "      <th>ORDERNO</th>\n",
       "      <th>ACTION</th>\n",
       "      <th>PRICE</th>\n",
       "      <th>VOLUME</th>\n",
       "      <th>TRADENO</th>\n",
       "      <th>TRADEPRICE</th>\n",
       "    </tr>\n",
       "  </thead>\n",
       "  <tbody>\n",
       "    <tr>\n",
       "      <th>0</th>\n",
       "      <td>1</td>\n",
       "      <td>RU14VOST1005</td>\n",
       "      <td>S</td>\n",
       "      <td>103000000</td>\n",
       "      <td>1</td>\n",
       "      <td>1</td>\n",
       "      <td>2.380</td>\n",
       "      <td>4500</td>\n",
       "      <td>NaN</td>\n",
       "      <td>NaN</td>\n",
       "    </tr>\n",
       "    <tr>\n",
       "      <th>1</th>\n",
       "      <td>2</td>\n",
       "      <td>RU0009071187</td>\n",
       "      <td>S</td>\n",
       "      <td>103000000</td>\n",
       "      <td>2</td>\n",
       "      <td>1</td>\n",
       "      <td>990.000</td>\n",
       "      <td>300</td>\n",
       "      <td>NaN</td>\n",
       "      <td>NaN</td>\n",
       "    </tr>\n",
       "    <tr>\n",
       "      <th>2</th>\n",
       "      <td>3</td>\n",
       "      <td>RU14VOST1005</td>\n",
       "      <td>S</td>\n",
       "      <td>103000000</td>\n",
       "      <td>3</td>\n",
       "      <td>1</td>\n",
       "      <td>2.420</td>\n",
       "      <td>21600</td>\n",
       "      <td>NaN</td>\n",
       "      <td>NaN</td>\n",
       "    </tr>\n",
       "    <tr>\n",
       "      <th>3</th>\n",
       "      <td>4</td>\n",
       "      <td>RU0009100762</td>\n",
       "      <td>B</td>\n",
       "      <td>103000000</td>\n",
       "      <td>4</td>\n",
       "      <td>1</td>\n",
       "      <td>0.133</td>\n",
       "      <td>100000</td>\n",
       "      <td>NaN</td>\n",
       "      <td>NaN</td>\n",
       "    </tr>\n",
       "    <tr>\n",
       "      <th>4</th>\n",
       "      <td>5</td>\n",
       "      <td>RU0009054449</td>\n",
       "      <td>S</td>\n",
       "      <td>103000000</td>\n",
       "      <td>5</td>\n",
       "      <td>1</td>\n",
       "      <td>332.000</td>\n",
       "      <td>500</td>\n",
       "      <td>NaN</td>\n",
       "      <td>NaN</td>\n",
       "    </tr>\n",
       "  </tbody>\n",
       "</table>\n",
       "</div>"
      ],
      "text/plain": [
       "   NO       SECCODE BUYSELL       TIME  ORDERNO  ACTION    PRICE  VOLUME  \\\n",
       "0   1  RU14VOST1005       S  103000000        1       1    2.380    4500   \n",
       "1   2  RU0009071187       S  103000000        2       1  990.000     300   \n",
       "2   3  RU14VOST1005       S  103000000        3       1    2.420   21600   \n",
       "3   4  RU0009100762       B  103000000        4       1    0.133  100000   \n",
       "4   5  RU0009054449       S  103000000        5       1  332.000     500   \n",
       "\n",
       "   TRADENO  TRADEPRICE  \n",
       "0      NaN         NaN  \n",
       "1      NaN         NaN  \n",
       "2      NaN         NaN  \n",
       "3      NaN         NaN  \n",
       "4      NaN         NaN  "
      ]
     },
     "execution_count": 2,
     "metadata": {},
     "output_type": "execute_result"
    }
   ],
   "source": [
    "OrderLog20020812_df = pd.read_csv('./resources/OrderLog20020812.txt')\n",
    "OrderLog20020812_df.head()"
   ]
  },
  {
   "cell_type": "code",
   "execution_count": 3,
   "id": "711a0e08",
   "metadata": {},
   "outputs": [
    {
     "data": {
      "text/plain": [
       "(0, 1, 2)"
      ]
     },
     "execution_count": 3,
     "metadata": {},
     "output_type": "execute_result"
    }
   ],
   "source": [
    "dic = {4434:0, 'asdf':1}\n",
    "dic[4434], dic['asdf'], len(dic)"
   ]
  },
  {
   "cell_type": "code",
   "execution_count": 4,
   "id": "d9e99c17",
   "metadata": {},
   "outputs": [],
   "source": [
    "class TAQ2TAQpps:\n",
    "    def __init__(self, taq_df,\n",
    "              row_id_col, # unique row id\n",
    "              sec_col, # column with security code\n",
    "              link_col # orderno or some mark linking trades and quotes\n",
    "             ):\n",
    "        self.taq_df = taq_df.copy()\n",
    "        self.row_id_col = row_id_col\n",
    "        self.sec_col = sec_col\n",
    "        self.link_col = link_col\n",
    "        self.secs = pd.unique(taq_df[sec_col])\n",
    "        self.vertex_count_dic = {k:v for (k, v) in zip(self.secs, [0 for i in range(len(self.secs))])}\n",
    "        self.rowid2gkey_dic = {k:v for (k, v) in zip(self.secs, [{} for i in range(len(self.secs))])}\n",
    "        self.lnk2gkey_dic = {k:v for (k, v) in zip(self.secs, [{} for i in range(len(self.secs))])}\n",
    "        self.edge_tpls = {k:v for (k, v) in zip(self.secs, [[] for i in range(len(self.secs))])}\n",
    "        self.rows_to_edges()\n",
    "        self.Gs = {k:v for (k, v) in zip(self.secs, [Graph(self.edge_tpls[sec],\n",
    "                                                           self.vertex_count_dic[sec]) for sec in self.secs])}\n",
    "        self.TAQpps = {k:v for (k, v) in zip(self.secs, [TAQplots(self.Gs[sec]) for sec in self.secs])}\n",
    "\n",
    "    def sec_rowid_lnk2edges(self, rowid, sec, lnk): \n",
    "        # give 0, 1, 2, ... vertex names to all raw ids and \"links\" (eg ordernos)\n",
    "        if rowid not in self.rowid2gkey_dic[sec]:\n",
    "            self.rowid2gkey_dic[sec][rowid] = self.vertex_count_dic[sec]\n",
    "            self.vertex_count_dic[sec] += 1\n",
    "        if lnk not in self.lnk2gkey_dic[sec]:\n",
    "            self.lnk2gkey_dic[sec][lnk] = self.vertex_count_dic[sec]\n",
    "            self.vertex_count_dic[sec] += 1\n",
    "        self.edge_tpls[sec].append((self.rowid2gkey_dic[sec][rowid], \n",
    "                               self.lnk2gkey_dic[sec][lnk]))\n",
    "\n",
    "    def rows_to_edges(self):\n",
    "        [self.sec_rowid_lnk2edges(rowid, sec, lnk) \n",
    "         for rowid, sec, lnk in zip(self.taq_df[self.row_id_col],\n",
    "                                    self.taq_df[self.sec_col],\n",
    "                                    self.taq_df[self.link_col])]\n",
    "        "
   ]
  },
  {
   "cell_type": "code",
   "execution_count": 5,
   "id": "aa281020",
   "metadata": {
    "scrolled": true
   },
   "outputs": [
    {
     "ename": "NameError",
     "evalue": "name 'taq2CCs' is not defined",
     "output_type": "error",
     "traceback": [
      "\u001b[1;31m---------------------------------------------------------------------------\u001b[0m",
      "\u001b[1;31mNameError\u001b[0m                                 Traceback (most recent call last)",
      "Input \u001b[1;32mIn [5]\u001b[0m, in \u001b[0;36m<cell line: 1>\u001b[1;34m()\u001b[0m\n\u001b[1;32m----> 1\u001b[0m temp \u001b[38;5;241m=\u001b[39m \u001b[43mtaq2CCs\u001b[49m(OrderLog20020812_df, \u001b[38;5;124m'\u001b[39m\u001b[38;5;124mNO\u001b[39m\u001b[38;5;124m'\u001b[39m, \u001b[38;5;124m'\u001b[39m\u001b[38;5;124mSECCODE\u001b[39m\u001b[38;5;124m'\u001b[39m, \u001b[38;5;124m'\u001b[39m\u001b[38;5;124mORDERNO\u001b[39m\u001b[38;5;124m'\u001b[39m)\n\u001b[0;32m      2\u001b[0m [\u001b[38;5;28mprint\u001b[39m(temp\u001b[38;5;241m.\u001b[39mCCs[sec]\u001b[38;5;241m.\u001b[39mto_df()) \u001b[38;5;28;01mfor\u001b[39;00m sec \u001b[38;5;129;01min\u001b[39;00m temp\u001b[38;5;241m.\u001b[39msecs]\n",
      "\u001b[1;31mNameError\u001b[0m: name 'taq2CCs' is not defined"
     ]
    }
   ],
   "source": [
    "temp = TAQ2TAQpps(OrderLog20020812_df, 'NO', 'SECCODE', 'ORDERNO')\n",
    "[print(temp.TAQpps[sec].to_df()) for sec in temp.secs]"
   ]
  },
  {
   "cell_type": "code",
   "execution_count": null,
   "id": "f8249e1e",
   "metadata": {},
   "outputs": [],
   "source": []
  }
 ],
 "metadata": {
  "kernelspec": {
   "display_name": "mlenv",
   "language": "python",
   "name": "mlenv"
  },
  "language_info": {
   "codemirror_mode": {
    "name": "ipython",
    "version": 3
   },
   "file_extension": ".py",
   "mimetype": "text/x-python",
   "name": "python",
   "nbconvert_exporter": "python",
   "pygments_lexer": "ipython3",
   "version": "3.9.12"
  }
 },
 "nbformat": 4,
 "nbformat_minor": 5
}
